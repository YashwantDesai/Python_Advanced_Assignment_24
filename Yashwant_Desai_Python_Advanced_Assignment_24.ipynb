{
 "cells": [
  {
   "cell_type": "markdown",
   "id": "0c27a818",
   "metadata": {},
   "source": [
    "# Yashwant Desai –  Python_Advanced_Assignment_24"
   ]
  },
  {
   "cell_type": "markdown",
   "id": "75927a6b",
   "metadata": {},
   "source": [
    "# Q1. Is it permissible to use several import statements to import the same module? What would the goal be? Can you think of a situation where it would be beneficial?"
   ]
  },
  {
   "cell_type": "markdown",
   "id": "328e2b24",
   "metadata": {},
   "source": [
    "It is permissible to use several import statements to import the same module.\n",
    "\n",
    "Here are a few situations where you might want to import the same module multiple times.\n",
    "\n",
    "o To import a module under different names for clarity or to avoid naming conflicts.\n",
    "\n",
    "o To import specific objects or functions from a module in multiple import statements. This can make your code more readable and help avoid naming conflict\n",
    "\n",
    "o In large codebases, you might want to import the same module in different sections of your code for organizational purposes. This can make it clear which parts of the code depend on a particular module."
   ]
  },
  {
   "cell_type": "code",
   "execution_count": 1,
   "id": "4e600569",
   "metadata": {},
   "outputs": [
    {
     "name": "stdout",
     "output_type": "stream",
     "text": [
      "4.0\n",
      "1.0\n",
      "5.0\n",
      "-1.0\n"
     ]
    }
   ],
   "source": [
    "import math as m\n",
    "import math as mathematics\n",
    "\n",
    "print(m.sqrt(16))  \n",
    "print(mathematics.cos(0)) \n",
    "\n",
    "from math import sqrt\n",
    "from math import cos\n",
    "\n",
    "print(sqrt(25))\n",
    "print(cos(3.14159265))"
   ]
  },
  {
   "cell_type": "markdown",
   "id": "20e1efa8",
   "metadata": {},
   "source": [
    "# Q2. What are some of a module's characteristics? (Name at least one.)"
   ]
  },
  {
   "cell_type": "markdown",
   "id": "39c10040",
   "metadata": {},
   "source": [
    "One characteristic of a module is that it encapsulates a reusable set of functions, classes, and variables, which can be organized in a single file. Modules allow you to structure and separate your code into manageable and reusable units. This helps improve code organization and maintainability by keeping related code together and making it easy to reuse across different parts of your program.Each module creates its own namespace, which acts as a container for the objects defined within that module. This helps prevent naming conflicts.Modules can be imported using the import statement, which makes the code within the module accessible to other parts of your program.Python comes with a rich standard library that includes a wide range of modules for various tasks, such as math for mathematical operations, os for interacting with the operating system, and datetime for working with dates and times. We can create your own custom modules to encapsulate code that you want to reuse across different parts of your application. \n",
    "\n"
   ]
  },
  {
   "cell_type": "markdown",
   "id": "f8823a08",
   "metadata": {},
   "source": [
    "# Q3. Circular importing, such as when two modules import each other, can lead to dependencies and bugs that aren't visible. How can you go about creating a program that avoids mutual importing?"
   ]
  },
  {
   "cell_type": "markdown",
   "id": "9c2636d6",
   "metadata": {},
   "source": [
    "Below are points to avoid circular importing.\n",
    "\n",
    "Restructure Your Code: Organize your code so that modules don't need to import each other directly. You can put shared functions in separate modules or use \"dependency injection,\" which means passing the required parts from one module to another.\n",
    "\n",
    "Import Inside Functions: Instead of importing a whole module at the top of your file, you can import it inside a function only when you need it.\n",
    "\n",
    "Use Design Patterns: Sometimes, design patterns can help you organize your code better to avoid circular imports. Patterns like Observer, Factory, or Adapter can help.\n",
    "\n",
    "Split Modules: If a module is trying to do too much, split it into smaller parts that don't depend on each other.\n",
    "\n",
    "Import Guards: Use conditions to control when a module is imported, making sure it's not imported in a circular way.\n"
   ]
  },
  {
   "cell_type": "markdown",
   "id": "d50d4f7d",
   "metadata": {},
   "source": [
    "# Q4. Why is  _ _all_ _ in Python?"
   ]
  },
  {
   "cell_type": "raw",
   "id": "f52f89d9",
   "metadata": {},
   "source": [
    "The __all__ variable in Python is like a signpost for a module that tells other code which parts of it are meant to be used by the outside world (public) and which parts are meant to be kept hidden (private).\n",
    "\n",
    "Using the __all__ variable helps make Python code more organized, understandable, and robust by providing a clear contract for how the module should be used and which parts should remain hidden."
   ]
  },
  {
   "cell_type": "code",
   "execution_count": 2,
   "id": "3c133548",
   "metadata": {},
   "outputs": [
    {
     "name": "stdout",
     "output_type": "stream",
     "text": [
      "Overwriting calculator.py\n"
     ]
    }
   ],
   "source": [
    "%%writefile calculator.py\n",
    "\n",
    "def add(x, y):\n",
    "    return x + y\n",
    "\n",
    "def subtract(x, y):\n",
    "    return x - y\n",
    "\n",
    "def multiply(x, y):\n",
    "    return x * y\n",
    "\n",
    "def divide(x, y):\n",
    "    if y == 0:\n",
    "        raise ValueError(\"Division by zero is not allowed.\")\n",
    "    return x / y\n",
    "\n",
    "__all__ = ['add', 'subtract', 'multiply', 'divide']"
   ]
  },
  {
   "cell_type": "code",
   "execution_count": 3,
   "id": "5707c10b",
   "metadata": {},
   "outputs": [
    {
     "name": "stdout",
     "output_type": "stream",
     "text": [
      "5 + 3 = 8\n",
      "10 - 4 = 6\n",
      "6 * 7 = 42\n",
      "8 / 2 = 4.0\n"
     ]
    }
   ],
   "source": [
    "from calculator import *\n",
    "\n",
    "result = add(5, 3)\n",
    "print(\"5 + 3 =\", result)\n",
    "\n",
    "result = subtract(10, 4)\n",
    "print(\"10 - 4 =\", result)\n",
    "\n",
    "result = multiply(6, 7)\n",
    "print(\"6 * 7 =\", result)\n",
    "\n",
    "result = divide(8, 2)\n",
    "print(\"8 / 2 =\", result)"
   ]
  },
  {
   "cell_type": "markdown",
   "id": "b08285bd",
   "metadata": {},
   "source": [
    "# Q5. In what situation is it useful to refer to the _ _name_ _ attribute or the string '_ _main_ _'?"
   ]
  },
  {
   "cell_type": "raw",
   "id": "ffd04ce0",
   "metadata": {},
   "source": [
    "Referring to the __name__ attribute and the string '__main__' in Python is useful for:\n",
    "\n",
    "Identifying the entry point of a Python script. Code within the if __name__ == '__main__': block runs only when the script is executed directly, not when it's imported as a module.\n",
    "\n",
    "Separating test code from module code, allowing you to test module functionality when the script is run directly.\n",
    "\n",
    "Controlling the behavior of a script when it's imported as a module, enabling you to execute initialization code or other actions specific to the importing context.\n",
    "\n",
    "Avoiding circular imports by separating the main program execution from import-time execution, helping maintain clean and organized code in larger projects."
   ]
  },
  {
   "cell_type": "code",
   "execution_count": 4,
   "id": "b3837ebd",
   "metadata": {},
   "outputs": [
    {
     "name": "stdout",
     "output_type": "stream",
     "text": [
      "Overwriting my_module.py\n"
     ]
    }
   ],
   "source": [
    "%%writefile my_module.py\n",
    "\n",
    "def say_hello():\n",
    "    return \"Hello, World!\"\n",
    "\n",
    "if __name__ == \"__main__\":\n",
    "    print(\"This is the main program, not a module.\")\n",
    "    result = say_hello()\n",
    "    print(result)"
   ]
  },
  {
   "cell_type": "code",
   "execution_count": 5,
   "id": "96910a1b",
   "metadata": {},
   "outputs": [
    {
     "data": {
      "text/plain": [
       "'Hello, World!'"
      ]
     },
     "execution_count": 5,
     "metadata": {},
     "output_type": "execute_result"
    }
   ],
   "source": [
    "from my_module import say_hello\n",
    "\n",
    "result = say_hello()\n",
    "result"
   ]
  },
  {
   "cell_type": "markdown",
   "id": "d5565e76",
   "metadata": {},
   "source": [
    "# Q6. What are some of the benefits of attaching a program counter to the RPN interpreter application, which interprets an RPN script line by line?"
   ]
  },
  {
   "cell_type": "markdown",
   "id": "92f9bbc9",
   "metadata": {},
   "source": [
    "Attaching a program counter to an RPN (Reverse Polish Notation) interpreter application, which interprets RPN scripts line by line, offers several benefits:\n",
    "\n",
    "Control Flow: Enables conditional branching and looping within RPN scripts, enhancing script flexibility.\n",
    "\n",
    "Conditional Execution: Allows the implementation of conditionals, making it possible to execute code based on specified conditions.\n",
    "\n",
    "Loops and Iteration: Facilitates the creation of loops for repetitive tasks and data iteration.\n",
    "\n",
    "Error Handling: Provides a mechanism to handle errors and exceptions, enhancing script robustness.\n",
    "\n",
    "Function Calls: Allows for the implementation of functions or subroutines within RPN scripts, promoting modular programming.\n",
    "\n",
    "State Management: Helps maintain and manage the script's state, including variables and data structures.\n",
    "\n",
    "Interactive Debugging: Aids in interactive debugging by pausing execution, inspecting variables, and stepping through code.\n",
    "\n",
    "Optimizations: Permits optimizations by skipping unnecessary calculations or branches.\n",
    "\n",
    "Interpreter Enhancements: Extends the capabilities of the RPN interpreter, enabling more advanced applications.\n",
    "\n",
    "Enhanced Scripting: Provides greater flexibility for creating complex applications involving mathematical and logical operations."
   ]
  },
  {
   "cell_type": "markdown",
   "id": "d31c000f",
   "metadata": {},
   "source": [
    "# Q7. What are the minimum expressions or statements (or both) that you'd need to render a basic programming language like RPN primitive but complete— that is, capable of carrying out any computerised task theoretically possible?"
   ]
  },
  {
   "cell_type": "markdown",
   "id": "007cae00",
   "metadata": {},
   "source": [
    "To render a basic programming language like Reverse Polish Notation (RPN) both primitive and theoretically capable of carrying out any computable task, you would need the following fundamental components:\n",
    "\n",
    "Arithmetic Operations: Support for basic arithmetic operations (addition, subtraction, multiplication, division) to perform mathematical computations.\n",
    "\n",
    "Stack Manipulation: Statements or expressions for pushing, popping, and manipulating data on a stack.\n",
    "\n",
    "Conditional Branching: Conditional statements (if, else) to execute different code blocks based on conditions.\n",
    "\n",
    "Loops: Loops (e.g., while, for) for repetitive code execution and iteration.\n",
    "\n",
    "Variable Assignment and Storage: Statements for variable assignment to store and manipulate data.\n",
    "\n",
    "I/O Operations: Input and output operations for interacting with the external world.\n",
    "\n",
    "Functions or Subroutines: Support for defining functions and calling them to organize and reuse code.\n",
    "\n",
    "Error Handling: Mechanisms for handling errors, exceptions, or abnormal conditions.\n",
    "\n",
    "Comments: The ability to include comments in the code for documentation and readability."
   ]
  },
  {
   "cell_type": "code",
   "execution_count": 6,
   "id": "98101375",
   "metadata": {},
   "outputs": [
    {
     "name": "stdout",
     "output_type": "stream",
     "text": [
      "Result: 90\n"
     ]
    }
   ],
   "source": [
    "stack = []\n",
    "\n",
    "def push(value):\n",
    "    stack.append(value)\n",
    "\n",
    "def pop():\n",
    "    if not stack:\n",
    "        raise ValueError(\"Stack underflow\")\n",
    "    return stack.pop()\n",
    "\n",
    "def add():\n",
    "    b = pop()\n",
    "    a = pop()\n",
    "    push(a + b)\n",
    "\n",
    "def subtract():\n",
    "    b = pop()\n",
    "    a = pop()\n",
    "    push(a - b)\n",
    "\n",
    "def multiply():\n",
    "    b = pop()\n",
    "    a = pop()\n",
    "    push(a * b)\n",
    "\n",
    "def divide():\n",
    "    b = pop()\n",
    "    a = pop()\n",
    "    if b == 0:\n",
    "        raise ValueError(\"Division by zero\")\n",
    "    push(a / b)\n",
    "\n",
    "def main():\n",
    "    rpn_script = [\"8\", \"7\", \"+\", \"6\", \"*\"]\n",
    "    \n",
    "    for token in rpn_script:\n",
    "        if token.isdigit():\n",
    "            push(int(token))\n",
    "        elif token == \"+\":\n",
    "            add()\n",
    "        elif token == \"*\":\n",
    "            multiply()\n",
    "    \n",
    "    result = pop()\n",
    "    print(\"Result:\", result)\n",
    "\n",
    "if __name__ == \"__main__\":\n",
    "    main()"
   ]
  },
  {
   "cell_type": "markdown",
   "id": "dda7d5b1",
   "metadata": {},
   "source": [
    "# Done all 7 questions "
   ]
  },
  {
   "cell_type": "markdown",
   "id": "a04469f9",
   "metadata": {},
   "source": [
    "# Regards,Yashwant"
   ]
  }
 ],
 "metadata": {
  "kernelspec": {
   "display_name": "Python 3 (ipykernel)",
   "language": "python",
   "name": "python3"
  },
  "language_info": {
   "codemirror_mode": {
    "name": "ipython",
    "version": 3
   },
   "file_extension": ".py",
   "mimetype": "text/x-python",
   "name": "python",
   "nbconvert_exporter": "python",
   "pygments_lexer": "ipython3",
   "version": "3.9.13"
  }
 },
 "nbformat": 4,
 "nbformat_minor": 5
}
